{
 "cells": [
  {
   "cell_type": "code",
   "execution_count": 3,
   "id": "358192e2",
   "metadata": {},
   "outputs": [
    {
     "ename": "IndentationError",
     "evalue": "expected an indented block (1875709156.py, line 30)",
     "output_type": "error",
     "traceback": [
      "\u001b[1;36m  Input \u001b[1;32mIn [3]\u001b[1;36m\u001b[0m\n\u001b[1;33m    \u001b[0m\n\u001b[1;37m    ^\u001b[0m\n\u001b[1;31mIndentationError\u001b[0m\u001b[1;31m:\u001b[0m expected an indented block\n"
     ]
    }
   ],
   "source": [
    "# input: nums = [2, 7, 11, 15], target = 9\n",
    "# output: [0, 1]\n",
    "# ex) nums[0] + nums[1] = 9\n",
    "\n",
    "# twosum(): brute force\n",
    "# twosum2(): Using in\n",
    "# twosum3(): key\n",
    "#\n",
    "\n",
    "from typing import List\n",
    "\n",
    "class sol():\n",
    "    def twosum(self, nums: List[int], target: int) -> List[int]:\n",
    "\n",
    "        for i in range(len(nums)):\n",
    "            for j in range(i + 1, len(nums)):\n",
    "\n",
    "                if nums[i] + nums[j] == target:\n",
    "                    return [i, j]\n",
    "\n",
    "    def twosum2(self, nums: List[int], target: int)-> List[int]:\n",
    "        # target - i = nums[j]\n",
    "        for i, n in enumerate(nums):\n",
    "            complement = target - n\n",
    "\n",
    "            if complement in nums[i + 1:]:\n",
    "                return nums.index(n), nums[i + 1:].index(complement) + (i + 1)\n",
    "\n",
    "    def twosum3(self, nums: List[int], target: int)-> List[int]:\n",
    "\n"
   ]
  },
  {
   "cell_type": "code",
   "execution_count": 4,
   "id": "53f4c8ad",
   "metadata": {},
   "outputs": [
    {
     "ename": "NameError",
     "evalue": "name 'sol' is not defined",
     "output_type": "error",
     "traceback": [
      "\u001b[1;31m---------------------------------------------------------------------------\u001b[0m",
      "\u001b[1;31mNameError\u001b[0m                                 Traceback (most recent call last)",
      "Input \u001b[1;32mIn [4]\u001b[0m, in \u001b[0;36m<cell line: 6>\u001b[1;34m()\u001b[0m\n\u001b[0;32m      1\u001b[0m \u001b[38;5;28minput\u001b[39m \u001b[38;5;241m=\u001b[39m [\u001b[38;5;241m2\u001b[39m, \u001b[38;5;241m7\u001b[39m, \u001b[38;5;241m11\u001b[39m, \u001b[38;5;241m15\u001b[39m]\n\u001b[0;32m      2\u001b[0m \u001b[38;5;66;03m#input[1 + 1:].index(11) + 2\u001b[39;00m\n\u001b[0;32m      3\u001b[0m \u001b[38;5;66;03m#for index, value in enumerate(input):\u001b[39;00m\n\u001b[0;32m      4\u001b[0m \u001b[38;5;66;03m#    print(index, value)\u001b[39;00m\n\u001b[1;32m----> 6\u001b[0m a \u001b[38;5;241m=\u001b[39m \u001b[43msol\u001b[49m()\n\u001b[0;32m      7\u001b[0m ans \u001b[38;5;241m=\u001b[39m a\u001b[38;5;241m.\u001b[39mtwosum2(nums \u001b[38;5;241m=\u001b[39m \u001b[38;5;28minput\u001b[39m, target \u001b[38;5;241m=\u001b[39m \u001b[38;5;241m9\u001b[39m)\n\u001b[0;32m      8\u001b[0m \u001b[38;5;28mprint\u001b[39m(ans)\n",
      "\u001b[1;31mNameError\u001b[0m: name 'sol' is not defined"
     ]
    }
   ],
   "source": [
    "input = [2, 7, 11, 15]\n",
    "#input[1 + 1:].index(11) + 2\n",
    "#for index, value in enumerate(input):\n",
    "#    print(index, value)\n",
    "\n",
    "a = sol()\n",
    "ans = a.twosum2(nums = input, target = 9)\n",
    "print(ans)\n",
    "#len(nums)"
   ]
  },
  {
   "cell_type": "code",
   "execution_count": null,
   "id": "3cb657fd",
   "metadata": {},
   "outputs": [],
   "source": []
  }
 ],
 "metadata": {
  "kernelspec": {
   "display_name": "Python 3 (ipykernel)",
   "language": "python",
   "name": "python3"
  },
  "language_info": {
   "codemirror_mode": {
    "name": "ipython",
    "version": 3
   },
   "file_extension": ".py",
   "mimetype": "text/x-python",
   "name": "python",
   "nbconvert_exporter": "python",
   "pygments_lexer": "ipython3",
   "version": "3.9.12"
  }
 },
 "nbformat": 4,
 "nbformat_minor": 5
}
